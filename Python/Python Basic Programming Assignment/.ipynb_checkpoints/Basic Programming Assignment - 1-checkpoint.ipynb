{
 "cells": [
  {
   "cell_type": "markdown",
   "id": "3b24c8ff",
   "metadata": {},
   "source": [
    "## Python Basic Programming Assignment\n",
    "### Assignment - 1"
   ]
  },
  {
   "cell_type": "markdown",
   "id": "653de154",
   "metadata": {},
   "source": [
    "<b>Question 1:</b><br>\n",
    "Write a Python program to print &quot;Hello Python&quot;?"
   ]
  },
  {
   "cell_type": "code",
   "execution_count": 1,
   "id": "500b2b40",
   "metadata": {},
   "outputs": [
    {
     "name": "stdout",
     "output_type": "stream",
     "text": [
      "Hello Python\n"
     ]
    }
   ],
   "source": [
    "print('Hello Python')"
   ]
  },
  {
   "cell_type": "code",
   "execution_count": null,
   "id": "f3c10592",
   "metadata": {},
   "outputs": [],
   "source": []
  }
 ],
 "metadata": {
  "kernelspec": {
   "display_name": "Python 3 (ipykernel)",
   "language": "python",
   "name": "python3"
  },
  "language_info": {
   "codemirror_mode": {
    "name": "ipython",
    "version": 3
   },
   "file_extension": ".py",
   "mimetype": "text/x-python",
   "name": "python",
   "nbconvert_exporter": "python",
   "pygments_lexer": "ipython3",
   "version": "3.9.13"
  }
 },
 "nbformat": 4,
 "nbformat_minor": 5
}
