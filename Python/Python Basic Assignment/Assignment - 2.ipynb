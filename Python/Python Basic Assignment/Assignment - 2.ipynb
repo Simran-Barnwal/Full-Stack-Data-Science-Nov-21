{
 "cells": [
  {
   "cell_type": "markdown",
   "id": "57742f95",
   "metadata": {},
   "source": [
    "## Python Basic Assignment\n",
    "### Assignment - 2"
   ]
  },
  {
   "cell_type": "markdown",
   "id": "27c13a15",
   "metadata": {},
   "source": [
    "<b>Question 1:</b><br>\n",
    "What are the two values of the Boolean data type? How do you write them?\n",
    "<br><br>\n",
    "<b> Answer </b> <br> \n",
    "Two values of boolean data type are `True` and `False`. It is written as shown below in code chunk."
   ]
  },
  {
   "cell_type": "code",
   "execution_count": 1,
   "id": "83e45d10",
   "metadata": {},
   "outputs": [],
   "source": [
    "x = True\n",
    "y = False"
   ]
  },
  {
   "cell_type": "markdown",
   "id": "1818efff",
   "metadata": {},
   "source": [
    "<b>Question 2:</b><br>\n",
    "What are the three different types of Boolean operators?\n",
    "<br><br>\n",
    "<b> Answer </b> <br> \n",
    "The three types of boolean operators are `and`, `or` and `not`."
   ]
  },
  {
   "cell_type": "markdown",
   "id": "a1a5eedf",
   "metadata": {},
   "source": [
    "<b>Question 3:</b><br>\n",
    "Make a list of each Boolean operator&#39;s truth tables (i.e. every possible combination of Boolean\n",
    "values for the operator and what it evaluate ).<br><br>\n",
    "<b> Answer </b> <br> \n",
    "<b>Truth table for `and` operator<br></b>\n",
    "True and True is True<br>\n",
    "True and False is False<br>\n",
    "False and True is False<br>\n",
    "False and False is False<br>\n",
    "\n",
    "<b>Truth Table for `or` operator<br></b>\n",
    "True and True is True<br>\n",
    "True and False is True<br>\n",
    "False and True is True<br>\n",
    "False and False is False<br>\n",
    "\n",
    "<b>Truth Table for `not` operator<br></b>\n",
    "True not is False False not is True"
   ]
  },
  {
   "cell_type": "markdown",
   "id": "97020e9e",
   "metadata": {},
   "source": [
    "<b>Question 4:</b><br>\n",
    "What are the values of the following expressions?<br>\n",
    "(5 &gt; 4) and (3 == 5)<br>\n",
    "not (5 &gt; 4)<br>\n",
    "(5 &gt; 4) or (3 == 5)<br>\n",
    "not ((5 &gt; 4) or (3 == 5))<br>\n",
    "(True and True) and (True == False)<br>\n",
    "(not False) or (not True)<br><br>\n",
    "<b> Answer </b> <br> \n"
   ]
  },
  {
   "cell_type": "code",
   "execution_count": 7,
   "id": "7d854327",
   "metadata": {},
   "outputs": [
    {
     "name": "stdout",
     "output_type": "stream",
     "text": [
      "(5>4) and (3==5) is  False\n",
      "not(5>4) is  False\n",
      "(5>4) or (3==5) is  True\n",
      "not (5>4) or (3==5) is  False\n",
      "(True and True) and (True == False) is  False\n",
      "(not False) or (not True) is  True\n"
     ]
    }
   ],
   "source": [
    "print('(5>4) and (3==5) is ', (5>4) and (3==5))\n",
    "print('not(5>4) is ', not (5>4))\n",
    "print('(5>4) or (3==5) is ', (5>4) or (3==5))\n",
    "print('not (5>4) or (3==5) is ', not (5>4) or (3==5))\n",
    "print('(True and True) and (True == False) is ', (True and True) and (True == False))\n",
    "print('(not False) or (not True) is ', (not False) or (not True))"
   ]
  },
  {
   "cell_type": "markdown",
   "id": "af7ead7b",
   "metadata": {},
   "source": [
    "<b>Question 5:</b><br>\n",
    "What are the six comparison operators?<br><br>\n",
    "<b> Answer </b> <br> \n",
    "Six comparison operators in python are<br>\n",
    "`==`(equal to), `!=`(not equal to), `>=`(greater than or equal to), `<=`(less than or equal to), `>`(greater than), and `<`(less than)."
   ]
  },
  {
   "cell_type": "markdown",
   "id": "f4f872e4",
   "metadata": {},
   "source": [
    "<b>Question 6:</b><br>\n",
    "How do you tell the difference between the equal to and assignment operators?Describe a\n",
    "condition and when you would use one.<br><br>\n",
    "<b> Answer </b> <br> \n",
    "Assignment operator `=` is used for assigning a value to a variable while the `==`(equal to) operator is used for making comparison. "
   ]
  },
  {
   "cell_type": "code",
   "execution_count": 8,
   "id": "e04631fd",
   "metadata": {},
   "outputs": [
    {
     "name": "stdout",
     "output_type": "stream",
     "text": [
      "Equal to operator example\n"
     ]
    }
   ],
   "source": [
    "a = 3 # Assignment\n",
    "if a == 3: # Equal to operator\n",
    "    print('Equal to operator example')"
   ]
  },
  {
   "cell_type": "markdown",
   "id": "c9009e72",
   "metadata": {},
   "source": [
    "<b>Question 7:</b><br>\n",
    "Identify the three blocks in this code:\n",
    "spam = 0 <br>\n",
    "if spam == 10: <br>\n",
    "print(&#39;eggs&#39;) <br>\n",
    "if spam &gt; 5:<br>\n",
    "print(&#39;bacon&#39;) <br>\n",
    "else: <br>\n",
    "print(&#39;ham&#39;) <br>\n",
    "print(&#39;spam&#39;)<br>\n",
    "print(&#39;spam&#39;)<br><br>\n",
    "<b> Answer </b> <br> \n",
    "In Python, indentation is used to define code blocks."
   ]
  },
  {
   "cell_type": "code",
   "execution_count": 9,
   "id": "6d47308d",
   "metadata": {},
   "outputs": [
    {
     "name": "stdout",
     "output_type": "stream",
     "text": [
      "ham\n",
      "spam\n",
      "spam\n"
     ]
    }
   ],
   "source": [
    "spam = 0  \n",
    "if spam == 10:  \n",
    "    print('eggs')  # block #1\n",
    "if spam > 5:  \n",
    "    print('bacon')  # block #2\n",
    "else:  \n",
    "    print('ham')  # block #3\n",
    "print('spam')  \n",
    "print('spam')"
   ]
  },
  {
   "cell_type": "markdown",
   "id": "a24279b7",
   "metadata": {},
   "source": [
    "<b>Question 8:</b><br>\n",
    "Write code that prints Hello if 1 is stored in spam, prints Howdy if 2 is stored in spam, and prints\n",
    "Greetings! if anything else is stored in spam.<br><br>\n",
    "<b>Answer </b> <br> \n"
   ]
  },
  {
   "cell_type": "code",
   "execution_count": 12,
   "id": "165c556c",
   "metadata": {},
   "outputs": [
    {
     "name": "stdout",
     "output_type": "stream",
     "text": [
      "Hello\n",
      "Howdy\n",
      "Greetings\n"
     ]
    }
   ],
   "source": [
    "def test_spam(spam):\n",
    "    if spam==1:\n",
    "        print('Hello')\n",
    "    elif spam==2:\n",
    "        print('Howdy')\n",
    "    else:\n",
    "        print('Greetings')\n",
    "        \n",
    "test_spam(1) \n",
    "test_spam(2)\n",
    "test_spam(3)"
   ]
  },
  {
   "cell_type": "markdown",
   "id": "7a7161f5",
   "metadata": {},
   "source": [
    "<b>Question 9:</b><br>\n",
    "If your programme is stuck in an endless loop, what keys you’ll press?<br><br>\n",
    "<b>Answer </b> <br> \n",
    "I will press `Ctrl+C` for getting out of the endless loop"
   ]
  },
  {
   "cell_type": "markdown",
   "id": "9fea2d51",
   "metadata": {},
   "source": [
    "<b>Question 10:</b><br>\n",
    "How can you tell the difference between break and continue?<br><br>\n",
    "<b>Answer </b> <br> \n",
    "The `break` statement will move the execution outside the loop if break condtion is satisfied. Whereas the `continue` statement will move the execution to the start of the loop."
   ]
  },
  {
   "cell_type": "markdown",
   "id": "1d0272e1",
   "metadata": {},
   "source": [
    "<b>Question 11:</b><br>\n",
    "In a for loop, what is the difference between range(10), range(0, 10), and range(0, 10, 1)?<br><br>\n",
    "<b>Answer </b> <br> \n",
    "`range(10)` will have call range from 0 to 9 (10 exluded) <br>\n",
    "`range(0,10)` will have call range from 0 to 9 (10 excluded) but will explicitely tell to start from 0. <br>\n",
    "`range(0,10,1)`  will have call range from 0 to 9 (10 excluded) and will explicitely tell to start from 0 and increase the value by 1 in every iteration"
   ]
  },
  {
   "cell_type": "markdown",
   "id": "75f701ee",
   "metadata": {},
   "source": [
    "<b>Question 12:</b><br>\n",
    "Write a short program that prints the numbers 1 to 10 using a for loop. Then write an equivalent\n",
    "program that prints the numbers 1 to 10 using a while loop.<br><br>\n",
    "<b>Answer </b> <br> \n"
   ]
  },
  {
   "cell_type": "code",
   "execution_count": 13,
   "id": "de365884",
   "metadata": {},
   "outputs": [
    {
     "name": "stdout",
     "output_type": "stream",
     "text": [
      "Using For Loop\n",
      "1 2 3 4 5 6 7 8 9 10 \n",
      "\n",
      "Using While Loop\n",
      "1 2 3 4 5 6 7 8 9 10 "
     ]
    }
   ],
   "source": [
    "print('Using For Loop')\n",
    "for i in range(1,11):\n",
    "    print(i, end=\" \")\n",
    "print('\\n')\n",
    "print('Using While Loop') \n",
    "i=1\n",
    "while i<=10:\n",
    "    print(i, end=\" \")\n",
    "    i+=1"
   ]
  },
  {
   "cell_type": "markdown",
   "id": "4d56eb3b",
   "metadata": {},
   "source": [
    "<b>Question 13:</b><br>\n",
    "If you had a function named bacon() inside a module named spam, how would you call it after\n",
    "importing spam?<br><br>\n",
    "<b>Answer </b> <br> \n",
    "`import spam`<br>\n",
    "`spam.bacon()`"
   ]
  }
 ],
 "metadata": {
  "kernelspec": {
   "display_name": "Python 3 (ipykernel)",
   "language": "python",
   "name": "python3"
  },
  "language_info": {
   "codemirror_mode": {
    "name": "ipython",
    "version": 3
   },
   "file_extension": ".py",
   "mimetype": "text/x-python",
   "name": "python",
   "nbconvert_exporter": "python",
   "pygments_lexer": "ipython3",
   "version": "3.9.13"
  }
 },
 "nbformat": 4,
 "nbformat_minor": 5
}
