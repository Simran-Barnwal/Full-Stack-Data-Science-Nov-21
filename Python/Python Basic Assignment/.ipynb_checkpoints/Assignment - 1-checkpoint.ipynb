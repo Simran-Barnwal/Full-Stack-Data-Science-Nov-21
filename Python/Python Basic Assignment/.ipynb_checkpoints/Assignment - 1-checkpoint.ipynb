{
 "cells": [
  {
   "cell_type": "markdown",
   "metadata": {},
   "source": [
    "## Python Basic Assignment\n",
    "### Assignment - 1"
   ]
  },
  {
   "cell_type": "markdown",
   "metadata": {},
   "source": [
    "<b>Question 1:</b><br>\n",
    "In the below elements which of them are values or an expression? eg:- values can be\n",
    "integer or string and expressions will be mathematical operators.\n",
    "*\n",
    "hello\n",
    "-87.8\n",
    "-\n",
    "/\n",
    "+\n",
    "6\n",
    "<br><br>\n",
    "<b> Answer </b> <br> \n",
    "Values - -87.8, 6, hello\n",
    "<br>\n",
    "Operators - *, +, -, /"
   ]
  },
  {
   "cell_type": "markdown",
   "metadata": {},
   "source": [
    "<b>Question 2:</b><br>\n",
    "What is the difference between string and variable?\n",
    "<br> <br>\n",
    "<b>Answer</b> <br>\n",
    "Strings are used to store textual data but variable is something where we can store any data such as integer, float, string etc."
   ]
  },
  {
   "cell_type": "markdown",
   "metadata": {},
   "source": [
    "<b>Question 3:</b><br>\n",
    "Describe data types in python.\n",
    "<br><br>\n",
    "<b> Answer </b> <br> \n",
    "Data types are a way for categorising kinds data based on their behavior.\n",
    "For example - if we have any numeric data - be it a decimal(float), integer(int) or a complex (used in complex numbers - 2+2j) - all will be categorised in one bucket - numeric data types which again will have sub-types such as float, integer and complex."
   ]
  },
  {
   "cell_type": "markdown",
   "metadata": {},
   "source": [
    "<b>Question 4:</b><br>\n",
    "What is an expression made up of? What do all expressions do?\n",
    "<br><br>\n",
    "<b> Answer </b> <br> \n",
    "Expressions are combination of values, variables and operators (can be arithmetic operators - such as +, - or assignment operators such as +=, -= etc). Expressions need to be evaluated by the interpreter. Expressions can be used to perform any logical, arthimetic or string operation on data.\n",
    "<br>E.g. 8*7-90+78 is a expression"
   ]
  },
  {
   "cell_type": "markdown",
   "metadata": {},
   "source": [
    "<b>Question 5:</b><br>\n",
    "This assignment statements, like spam = 10. What is the difference between an\n",
    "expression and a statement?\n",
    "<br><br>\n",
    "<b> Answer </b> <br> \n",
    "Statement are used for variable declaration or for assigning something to a variable while expressions are something to be executed by the interpreter"
   ]
  },
  {
   "cell_type": "markdown",
   "metadata": {},
   "source": [
    "<b>Question 6:</b><br>\n",
    "After running the following code, what does the variable bacon contain?\n",
    "bacon = 22\n",
    "bacon + 1\n",
    "<br><br>\n",
    "<b> Answer </b>\n",
    "bacon will still have the value 22, since we increased bacon by 1 but didnt store the increased value back into bacon variable"
   ]
  },
  {
   "cell_type": "code",
   "execution_count": 2,
   "metadata": {},
   "outputs": [
    {
     "name": "stdout",
     "output_type": "stream",
     "text": [
      "23\n",
      "22\n"
     ]
    }
   ],
   "source": [
    "bacon = 22\n",
    "print(bacon + 1)\n",
    "print(bacon)"
   ]
  },
  {
   "cell_type": "markdown",
   "metadata": {},
   "source": [
    "<b>Question 7:</b><br>\n",
    "What should the values of the following two terms be?<br>\n",
    "&#39;spam&#39; + &#39;spamspam&#39;<br>\n",
    "&#39;spam&#39; * 3\n",
    "<br><br>\n",
    "<b> Answer </b>\n",
    "As shown below, both will have same value"
   ]
  },
  {
   "cell_type": "code",
   "execution_count": 4,
   "metadata": {},
   "outputs": [
    {
     "name": "stdout",
     "output_type": "stream",
     "text": [
      "spamspamspam\n",
      "spamspamspam\n"
     ]
    }
   ],
   "source": [
    "print('spam' + 'spamspam')\n",
    "print('spam' * 3)"
   ]
  },
  {
   "cell_type": "markdown",
   "metadata": {},
   "source": [
    "<b>Question 8:</b><br>\n",
    "Why is eggs a valid variable name while 100 is invalid?\n",
    "<br><br>\n",
    "<b> Answer </b>\n",
    "Because in python, variable names can never start from a number"
   ]
  },
  {
   "cell_type": "markdown",
   "metadata": {},
   "source": [
    "<b>Question 9:</b><br>\n",
    "What three functions can be used to get the integer, floating-point number, or string\n",
    "version of a value?\n",
    "<br><br>\n",
    "<b> Answer </b>\n",
    "The functions, `int()`, `float()`, and `str()` can be used to get the integer, floating-point number, or string\n",
    "version of a value. "
   ]
  },
  {
   "cell_type": "code",
   "execution_count": 8,
   "metadata": {},
   "outputs": [
    {
     "name": "stdout",
     "output_type": "stream",
     "text": [
      "Integer- 10\n",
      "Floating point number- 10.0\n",
      "String- 10\n"
     ]
    }
   ],
   "source": [
    "x = 10\n",
    "print(\"Integer-\",int(x))\n",
    "print(\"Floating point number-\",float(x))\n",
    "print(\"String-\", str(x))"
   ]
  },
  {
   "cell_type": "markdown",
   "metadata": {},
   "source": [
    "<b>Question 10:</b><br>\n",
    "Why does this expression cause an error? How can you fix it?<br>\n",
    "&#39;I have eaten &#39; + 99 + &#39; burritos.&#39;\n",
    "<br><br>\n",
    "<b> Answer </b>\n",
    "Because 99 is not a string, we can correct this by converting 99 into a string"
   ]
  },
  {
   "cell_type": "code",
   "execution_count": 10,
   "metadata": {},
   "outputs": [
    {
     "data": {
      "text/plain": [
       "'I have eaten 99 burritos'"
      ]
     },
     "execution_count": 10,
     "metadata": {},
     "output_type": "execute_result"
    }
   ],
   "source": [
    "'I have eaten '  + str(99) + ' burritos'"
   ]
  }
 ],
 "metadata": {
  "kernelspec": {
   "display_name": "Python 3 (ipykernel)",
   "language": "python",
   "name": "python3"
  },
  "language_info": {
   "codemirror_mode": {
    "name": "ipython",
    "version": 3
   },
   "file_extension": ".py",
   "mimetype": "text/x-python",
   "name": "python",
   "nbconvert_exporter": "python",
   "pygments_lexer": "ipython3",
   "version": "3.9.13"
  }
 },
 "nbformat": 4,
 "nbformat_minor": 2
}
